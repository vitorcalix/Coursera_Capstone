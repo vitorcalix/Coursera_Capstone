{
  "nbformat": 4,
  "nbformat_minor": 0,
  "metadata": {
    "colab": {
      "name": "Applied Data Science Capstone.ipynb",
      "provenance": [],
      "authorship_tag": "ABX9TyN4ej3BIQxevH7D1SO5Idzx",
      "include_colab_link": true
    },
    "kernelspec": {
      "name": "python3",
      "display_name": "Python 3"
    }
  },
  "cells": [
    {
      "cell_type": "markdown",
      "metadata": {
        "id": "view-in-github",
        "colab_type": "text"
      },
      "source": [
        "<a href=\"https://colab.research.google.com/github/vitorcalix/Coursera_Capstone/blob/main/Applied_Data_Science_Capstone.ipynb\" target=\"_parent\"><img src=\"https://colab.research.google.com/assets/colab-badge.svg\" alt=\"Open In Colab\"/></a>"
      ]
    },
    {
      "cell_type": "markdown",
      "metadata": {
        "id": "PI0Cxh2eAVaO"
      },
      "source": [
        "#This notebook will be used for the Applied Data Science Capstone Project"
      ]
    },
    {
      "cell_type": "code",
      "metadata": {
        "colab": {
          "base_uri": "https://localhost:8080/"
        },
        "id": "RMoJq34XAFDR",
        "outputId": "8becd833-9bfa-4496-901d-af37ffb5757b"
      },
      "source": [
        "import pandas as pd\n",
        "import numpy as np\n",
        "print('Hello Capstone Project Course!')"
      ],
      "execution_count": 1,
      "outputs": [
        {
          "output_type": "stream",
          "text": [
            "Hello Capstone Project Course!\n"
          ],
          "name": "stdout"
        }
      ]
    }
  ]
}